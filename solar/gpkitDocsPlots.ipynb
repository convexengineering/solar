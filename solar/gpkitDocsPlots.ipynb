{
 "cells": [
  {
   "cell_type": "code",
   "execution_count": 2,
   "metadata": {
    "scrolled": false
   },
   "outputs": [
    {
     "name": "stdout",
     "output_type": "stream",
     "text": [
      "Using solver 'mosek_cli'\n",
      "Solving for 877 variables.\n",
      "Solving took 0.853 seconds.\n",
      "Warning: Variable [CL_Mission.1/Climb.1/AircraftDrag.2/WingAero.2_(0,), CL_Mission.1/Climb.1/AircraftDrag.2/WingAero.2 could cause inaccurate result because it is below lower bound. Solution is 1.0426 but bound is 0.9465\n",
      "Warning: Variable [Re_Mission.1/Climb.1/AircraftDrag.2/WingAero.2_(0,), Re_Mission.1/Climb.1/AircraftDrag.2/WingAero.2 could cause inaccurate result because it is above upper bound. Solution is 1149353.3065 but bound is 600000.0000\n"
     ]
    }
   ],
   "source": [
    "    from solar import *\n",
    "    from gpkit.interactive.sankey import Sankey\n",
    "    Vehicle = Aircraft(Npod=1, sp = False)\n",
    "    M = Mission(Vehicle, latitude=[20])\n",
    "    M.cost = M[M.aircraft.Wtotal]\n",
    "    sol = M.solve()"
   ]
  },
  {
   "cell_type": "code",
   "execution_count": 14,
   "metadata": {
    "scrolled": false
   },
   "outputs": [
    {
     "data": {
      "application/vnd.jupyter.widget-view+json": {
       "model_id": "d91631644b3e43ed9f4984acf95750bd",
       "version_major": 2,
       "version_minor": 0
      },
      "text/html": [
       "<p>Failed to display Jupyter Widget of type <code>SankeyWidget</code>.</p>\n",
       "<p>\n",
       "  If you're reading this message in the Jupyter Notebook or JupyterLab Notebook, it may mean\n",
       "  that the widgets JavaScript is still loading. If this message persists, it\n",
       "  likely means that the widgets JavaScript library is either not installed or\n",
       "  not enabled. See the <a href=\"https://ipywidgets.readthedocs.io/en/stable/user_install.html\">Jupyter\n",
       "  Widgets Documentation</a> for setup instructions.\n",
       "</p>\n",
       "<p>\n",
       "  If you're reading this message in another frontend (for example, a static\n",
       "  rendering on GitHub or <a href=\"https://nbviewer.jupyter.org/\">NBViewer</a>),\n",
       "  it may mean that your frontend doesn't currently support widgets.\n",
       "</p>\n"
      ],
      "text/plain": [
       "SankeyWidget(layout=Layout(height=u'400', width=u'1050'), links=[{'color': '#59ade4', 'source': 'VerticalTail.1', 'target': 'BoxSpar.4', 'value': 0.025870357902004617}, {'color': '#59ade4', 'source': 'HorizontalTail.1', 'target': 'BoxSpar.3', 'value': 0.019616268069868836}, {'color': '#cfcfcf', 'source': 'Aircraft.1', 'target': 'Propeller.1', 'value': 0.001100208}, {'color': '#59ade4', 'source': 'FlightSegment.1', 'target': 'SteadyLevelFlight.1', 'value': 6.71331}, {'color': '#59ade4', 'source': 'Empennage.1', 'target': 'TailBoom.1', 'value': 0.6110504008572499}, {'color': '#cfcfcf', 'source': 'Aircraft.1', 'target': 'CFRPFabric', 'value': 0.0008498840861563049}, {'color': '#59ade4', 'source': 'FlightSegment.1', 'target': 'AircraftPerf.1', 'value': 61.8840682778751}, {'color': '#59ade4', 'source': 'VerticalTail.1', 'target': 'Planform.4', 'value': 0.0265535095}, {'color': '#59ade4', 'source': 'AircraftDrag.3', 'target': 'TailAero.6', 'value': 0.08409817099845111}, {'color': '#cfcfcf', 'source': 'FlightSegment.1', 'target': 'TailBoomBending.2', 'value': 0.0008498840861563049}, {'color': '#59ade4', 'source': 'Mission.1', 'target': 'Aircraft.1', 'value': 20.184622610880517}, {'color': '#59ade4', 'source': 'Wing.1', 'target': 'BoxSpar.5', 'value': 2.8237822653718556}, {'color': '#59ade4', 'source': 'HorizontalTail.1', 'target': 'WingSecondStruct.3', 'value': 0.03225955}, {'color': '#59ade4', 'source': 'Climb.1', 'target': 'AircraftDrag.2', 'value': 4.630744756123948}, {'color': '#59ade4', 'source': 'FlightSegment.1', 'target': 'TailBoomBending.3', 'value': 0.6640835689429334}, {'color': '#59ade4', 'source': 'AircraftPerf.1', 'target': 'AircraftDrag.3', 'value': 57.9681910578751}, {'color': '#cfcfcf', 'source': 'AircraftDrag.2', 'target': 'TailBoomAero.2', 'value': 0.0008498840861563049}, {'color': '#59ade4', 'source': 'TailBoomBending.3', 'target': 'Beam.3', 'value': 0.3135280416753763}, {'color': '#59ade4', 'source': 'AircraftDrag.3', 'target': 'TailAero.7', 'value': 0.12103153076175731}, {'color': '#cfcfcf', 'source': 'AircraftDrag.3', 'target': 'TailBoomAero.3', 'value': 0.0016478267999999999}, {'color': '#59ade4', 'source': 'VerticalTail.1', 'target': 'WingSecondStruct.4', 'value': 0.04253472}, {'color': '#cfcfcf', 'source': 'FlightSegment.1', 'target': 'SparLoading.3', 'value': 0.0008498840861563049}, {'color': '#59ade4', 'source': 'Mission.1', 'target': 'Climb.1', 'value': 5.561755443290087}, {'color': '#59ade4', 'source': 'AircraftDrag.2', 'target': 'WingAero.2', 'value': 0.18639219088822423}, {'color': '#59ade4', 'source': 'Empennage.1', 'target': 'VerticalTail.1', 'value': 0.1448219354020046}, {'color': '#59ade4', 'source': 'Wing.1', 'target': 'WingSecondStruct.5', 'value': 0.3611195}, {'color': '#59ade4', 'source': 'AircraftDrag.3', 'target': 'FuselageAero.3', 'value': 0.06847415}, {'color': '#59ade4', 'source': 'AircraftDrag.3', 'target': 'MotorPerf.3', 'value': 9.806220600161371}, {'color': '#59ade4', 'source': 'AircraftDrag.3', 'target': 'ActuatorProp.3', 'value': 27.9853737001003}, {'color': '#cfcfcf', 'source': 'AircraftDrag.2', 'target': 'TailAero.5', 'value': 0.0064882916108216695}, {'color': '#59ade4', 'source': 'Aircraft.1', 'target': 'Empennage.1', 'value': 1.3535102238291234}, {'color': '#59ade4', 'source': 'AircraftDrag.2', 'target': 'ActuatorProp.2', 'value': 3.2667892485813503}, {'color': '#59ade4', 'source': 'AircraftDrag.2', 'target': 'MotorPerf.2', 'value': 0.3281849188502602}, {'color': '#59ade4', 'source': 'Aircraft.1', 'target': 'SolarCells.1', 'value': 0.3051576}, {'color': '#59ade4', 'source': 'FlightSegment.1', 'target': 'SparLoading.4', 'value': 0.015267490498976325}, {'color': '#59ade4', 'source': 'HorizontalTail.1', 'target': 'Planform.3', 'value': 0.0196409985}, {'color': '#59ade4', 'source': 'Wing.1', 'target': 'Planform.5', 'value': 4.1271888414}, {'color': '#59ade4', 'source': 'Aircraft.1', 'target': 'Wing.1', 'value': 8.269624006771856}, {'color': '#cfcfcf', 'source': 'TailBoomBending.2', 'target': 'Beam.2', 'value': 0.0008498840861563049}, {'color': '#59ade4', 'source': 'Aircraft.1', 'target': 'Motor.1', 'value': 0.3281849000163533}, {'color': '#59ade4', 'source': 'Aircraft.1', 'target': 'Battery.1', 'value': 3.30739661}, {'color': '#cfcfcf', 'source': 'Aircraft.1', 'target': 'FoamHD', 'value': 0.0008498840861563049}, {'color': '#cfcfcf', 'source': 'AircraftDrag.2', 'target': 'FuselageAero.2', 'value': 0.004042553000000001}, {'color': '#cfcfcf', 'source': 'AircraftDrag.2', 'target': 'TailAero.4', 'value': 0.0045684164074967105}, {'color': '#59ade4', 'source': 'Empennage.1', 'target': 'HorizontalTail.1', 'value': 0.10886739756986884}, {'color': '#59ade4', 'source': 'AircraftDrag.3', 'target': 'WingAero.3', 'value': 3.9432943100532243}, {'color': '#59ade4', 'source': 'Mission.1', 'target': 'FlightSegment.1', 'value': 84.98840861563049}, {'color': '#59ade4', 'source': 'Aircraft.1', 'target': 'Fuselage.1', 'value': 0.1776884174}, {'color': '#59ade4', 'source': 'FlightSegment.1', 'target': 'FlightState.1', 'value': 1.2111397407040387}, {'color': '#59ade4', 'source': 'FlightSegment.1', 'target': 'SparLoading.5', 'value': 0.01833837302006277}, {'color': '#cfcfcf', 'source': 'Aircraft.1', 'target': 'CFRPUD', 'value': 0.0008498840861563049}, {'color': '#59ade4', 'source': 'FlightSegment.1', 'target': 'GustL.1', 'value': 13.506333835641332}], margins={'top': 0, 'right': 90, 'left': 60, 'bottom': 0}, nodes=[{'id': 'WingSecondStruct.5'}, {'id': 'Mission.1'}, {'id': 'ActuatorProp.2'}, {'id': 'WingAero.3'}, {'id': 'FoamHD'}, {'id': 'Propeller.1'}, {'id': 'ActuatorProp.3'}, {'id': 'Battery.1'}, {'id': 'SolarCells.1'}, {'id': 'FlightState.1'}, {'id': 'Climb.1'}, {'id': 'TailAero.7'}, {'id': 'TailAero.5'}, {'id': 'TailAero.4'}, {'id': 'SteadyLevelFlight.1'}, {'id': 'TailAero.6'}, {'id': 'BoxSpar.4'}, {'id': 'BoxSpar.5'}, {'id': 'SparLoading.5'}, {'id': 'BoxSpar.3'}, {'id': 'Empennage.1'}, {'id': 'VerticalTail.1'}, {'id': 'Aircraft.1'}, {'id': 'AircraftDrag.2'}, {'id': 'AircraftDrag.3'}, {'id': 'MotorPerf.3'}, {'id': 'MotorPerf.2'}, {'id': 'Fuselage.1'}, {'id': 'TailBoomAero.2'}, {'id': 'TailBoomAero.3'}, {'id': 'CFRPFabric'}, {'id': 'Planform.5'}, {'id': 'Planform.4'}, {'id': 'Planform.3'}, {'id': 'TailBoom.1'}, {'id': 'Wing.1'}, {'id': 'FlightSegment.1'}, {'id': 'FuselageAero.3'}, {'id': 'FuselageAero.2'}, {'id': 'TailBoomBending.3'}, {'id': 'Motor.1'}, {'id': 'WingSecondStruct.4'}, {'id': 'TailBoomBending.2'}, {'id': 'WingAero.2'}, {'id': 'WingSecondStruct.3'}, {'id': 'Beam.2'}, {'id': 'AircraftPerf.1'}, {'id': 'SparLoading.4'}, {'id': 'SparLoading.3'}, {'id': 'HorizontalTail.1'}, {'id': 'Beam.3'}, {'id': 'GustL.1'}, {'id': 'CFRPUD'}])"
      ]
     },
     "metadata": {},
     "output_type": "display_data"
    }
   ],
   "source": [
    "M.variables_byname('CL')\n",
    "Sankey(M).diagram(left=60, right=90, width=1050)"
   ]
  }
 ],
 "metadata": {
  "kernelspec": {
   "display_name": "Python 2",
   "language": "python",
   "name": "python2"
  },
  "language_info": {
   "codemirror_mode": {
    "name": "ipython",
    "version": 2
   },
   "file_extension": ".py",
   "mimetype": "text/x-python",
   "name": "python",
   "nbconvert_exporter": "python",
   "pygments_lexer": "ipython2",
   "version": "2.7.13"
  }
 },
 "nbformat": 4,
 "nbformat_minor": 2
}
