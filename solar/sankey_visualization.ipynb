{
 "cells": [
  {
   "cell_type": "code",
   "execution_count": 1,
   "metadata": {},
   "outputs": [
    {
     "data": {
      "application/javascript": [
       "IPython.OutputArea.prototype._should_scroll = function(lines) {\n",
       "    return false;\n",
       "} "
      ],
      "text/plain": [
       "<IPython.core.display.Javascript object>"
      ]
     },
     "metadata": {},
     "output_type": "display_data"
    }
   ],
   "source": [
    "%%javascript\n",
    "IPython.OutputArea.prototype._should_scroll = function(lines) {\n",
    "    return false;\n",
    "} "
   ]
  },
  {
   "cell_type": "code",
   "execution_count": 2,
   "metadata": {},
   "outputs": [],
   "source": [
    "from gpkit.interactive.sankey import Sankey"
   ]
  },
  {
   "cell_type": "code",
   "execution_count": 3,
   "metadata": {},
   "outputs": [],
   "source": [
    "from solar import Mission"
   ]
  },
  {
   "cell_type": "code",
   "execution_count": 4,
   "metadata": {},
   "outputs": [],
   "source": [
    "M = Mission(latitude=[20])\n",
    "M.cost = M[\"Wtotal\"]"
   ]
  },
  {
   "cell_type": "code",
   "execution_count": 5,
   "metadata": {},
   "outputs": [
    {
     "name": "stdout",
     "output_type": "stream",
     "text": [
      "Using solver 'mosek'\n",
      "Solving for 378 variables.\n",
      "Solving took 0.0612 seconds.\n",
      "Warning: Variable Re_Mission/Climb/AircraftDrag/WingAero could cause inaccurate result because it is below lower bound. Solution is 38773.4019 but bound is 125000.0000\n",
      "Warning: Variable Re_Mission/FlightSegment/AircraftPerf/AircraftDrag.1/WingAero.1 could cause inaccurate result because it is above upper bound. Solution is 275872.5553 but bound is 200000.0000\n"
     ]
    }
   ],
   "source": [
    "sol = M.solve(\"mosek\")"
   ]
  },
  {
   "cell_type": "code",
   "execution_count": 17,
   "metadata": {},
   "outputs": [
    {
     "name": "stdout",
     "output_type": "stream",
     "text": [
      "Ⓐ adds +0.207 to the overall sensitivity of tau_Mission/Aircraft/Wing/Planform.2\n",
      "Ⓐ is cdp_Mission/Climb/AircraftDrag/WingAero**4.5*mfit_Mission/Climb/AircraftDrag/WingAero**-4.5 >= 0.358*CL_Mission/Climb/AircraftDrag/WingAero**2.6*Re_Mission/Climb/AircraftDrag/WingAero**-1.3*tau_Mission/Aircraft/Wing/Planform.2**1.7 + 3.1e-29*CL_Mission/Climb/AircraftDrag/WingAero**80*Re_Mission/Climb/AircraftDrag/WingAero**-0.29*tau_Mission/Aircraft/Wing/Planform.2**-10 + 7e+26*CL_Mission/Climb/AircraftDrag/WingAero**-3.2*Re_Mission/Climb/AircraftDrag/WingAero**-6.1*tau_Mission/Aircraft/Wing/Planform.2**3.3 \n",
      "\n",
      "Ⓑ adds +0.356 to the overall sensitivity of tau_Mission/Aircraft/Wing/Planform.2\n",
      "Ⓑ is cdp_Mission/FlightSegment/AircraftPerf/AircraftDrag.1/WingAero.1**4.5*mfit_Mission/FlightSegment/AircraftPerf/AircraftDrag.1/WingAero.1**-4.5 >= 0.358*CL_Mission/FlightSegment/AircraftPerf/AircraftDrag.1/WingAero.1**2.6*Re_Mission/FlightSegment/AircraftPerf/AircraftDrag.1/WingAero.1**-1.3*tau_Mission/Aircraft/Wing/Planform.2**1.7 + 3.1e-29*CL_Mission/FlightSegment/AircraftPerf/AircraftDrag.1/WingAero.1**80*Re_Mission/FlightSegment/AircraftPerf/AircraftDrag.1/WingAero.1**-0.29*tau_Mission/Aircraft/Wing/Planform.2**-10 + 7e+26*CL_Mission/FlightSegment/AircraftPerf/AircraftDrag.1/WingAero.1**-3.2*Re_Mission/FlightSegment/AircraftPerf/AircraftDrag.1/WingAero.1**-6.1*tau_Mission/Aircraft/Wing/Planform.2**3.3 \n",
      "\n",
      "Ⓒ adds +0 to the overall sensitivity of tau_Mission/Aircraft/Wing/Planform.2\n",
      "Ⓒ is tau_CFRPFabric >= 0.25*Nmax_Mission/FlightSegment/SparLoading*Nsafety_Mission/FlightSegment/SparLoading*W_Mission/FlightSegment/SparLoading*\\bar{S}_Mission/FlightSegment/SparLoading/Beam.2_(4,)*cave_Mission/Aircraft/Wing/Planform.2_(0,)**-1*tau_Mission/Aircraft/Wing/Planform.2**-1*tshear_Mission/Aircraft/Wing/BoxSpar.2_(0,)**-1 \n",
      "\n",
      "Ⓓ adds +0 to the overall sensitivity of tau_Mission/Aircraft/Wing/Planform.2\n",
      "Ⓓ is tau_CFRPFabric >= 0.25*Nmax_Mission/FlightSegment/SparLoading*Nsafety_Mission/FlightSegment/SparLoading*W_Mission/FlightSegment/SparLoading*\\bar{S}_Mission/FlightSegment/SparLoading/Beam.2_(4,)*cave_Mission/Aircraft/Wing/Planform.2_(1,)**-1*tau_Mission/Aircraft/Wing/Planform.2**-1*tshear_Mission/Aircraft/Wing/BoxSpar.2_(1,)**-1 \n",
      "\n",
      "Ⓔ adds +0 to the overall sensitivity of tau_Mission/Aircraft/Wing/Planform.2\n",
      "Ⓔ is tau_CFRPFabric >= 0.25*Nmax_Mission/FlightSegment/SparLoading*Nsafety_Mission/FlightSegment/SparLoading*W_Mission/FlightSegment/SparLoading*\\bar{S}_Mission/FlightSegment/SparLoading/Beam.2_(4,)*cave_Mission/Aircraft/Wing/Planform.2_(2,)**-1*tau_Mission/Aircraft/Wing/Planform.2**-1*tshear_Mission/Aircraft/Wing/BoxSpar.2_(2,)**-1 \n",
      "\n",
      "Ⓕ adds +0 to the overall sensitivity of tau_Mission/Aircraft/Wing/Planform.2\n",
      "Ⓕ is tau_CFRPFabric >= 0.25*Nmax_Mission/FlightSegment/SparLoading*Nsafety_Mission/FlightSegment/SparLoading*W_Mission/FlightSegment/SparLoading*\\bar{S}_Mission/FlightSegment/SparLoading/Beam.2_(4,)*cave_Mission/Aircraft/Wing/Planform.2_(3,)**-1*tau_Mission/Aircraft/Wing/Planform.2**-1*tshear_Mission/Aircraft/Wing/BoxSpar.2_(3,)**-1 \n",
      "\n",
      "Ⓖ adds -1.58e-11 to the overall sensitivity of tau_Mission/Aircraft/Wing/Planform.2\n",
      "Ⓖ is tau_CFRPFabric >= 0.25*Nmax_Mission/FlightSegment/GustL*Nsafety_Mission/FlightSegment/GustL*W_Mission/FlightSegment/GustL*\\bar{S}_Mission/FlightSegment/GustL/Beam.3_(4,)*cave_Mission/Aircraft/Wing/Planform.2_(0,)**-1*tau_Mission/Aircraft/Wing/Planform.2**-1*tshear_Mission/Aircraft/Wing/BoxSpar.2_(0,)**-1 \n",
      "\n",
      "Ⓗ adds -1.59e-11 to the overall sensitivity of tau_Mission/Aircraft/Wing/Planform.2\n",
      "Ⓗ is tau_CFRPFabric >= 0.25*Nmax_Mission/FlightSegment/GustL*Nsafety_Mission/FlightSegment/GustL*W_Mission/FlightSegment/GustL*\\bar{S}_Mission/FlightSegment/GustL/Beam.3_(4,)*cave_Mission/Aircraft/Wing/Planform.2_(1,)**-1*tau_Mission/Aircraft/Wing/Planform.2**-1*tshear_Mission/Aircraft/Wing/BoxSpar.2_(1,)**-1 \n",
      "\n",
      "Ⓘ adds -1.6e-11 to the overall sensitivity of tau_Mission/Aircraft/Wing/Planform.2\n",
      "Ⓘ is tau_CFRPFabric >= 0.25*Nmax_Mission/FlightSegment/GustL*Nsafety_Mission/FlightSegment/GustL*W_Mission/FlightSegment/GustL*\\bar{S}_Mission/FlightSegment/GustL/Beam.3_(4,)*cave_Mission/Aircraft/Wing/Planform.2_(2,)**-1*tau_Mission/Aircraft/Wing/Planform.2**-1*tshear_Mission/Aircraft/Wing/BoxSpar.2_(2,)**-1 \n",
      "\n",
      "Ⓙ adds -1.62e-11 to the overall sensitivity of tau_Mission/Aircraft/Wing/Planform.2\n",
      "Ⓙ is tau_CFRPFabric >= 0.25*Nmax_Mission/FlightSegment/GustL*Nsafety_Mission/FlightSegment/GustL*W_Mission/FlightSegment/GustL*\\bar{S}_Mission/FlightSegment/GustL/Beam.3_(4,)*cave_Mission/Aircraft/Wing/Planform.2_(3,)**-1*tau_Mission/Aircraft/Wing/Planform.2**-1*tshear_Mission/Aircraft/Wing/BoxSpar.2_(3,)**-1 \n",
      "\n",
      "Ⓚ adds -1.05e-10 to the overall sensitivity of tau_Mission/Aircraft/Wing/Planform.2\n",
      "Ⓚ is d_Mission/Aircraft/Empennage/TailBoom_(0,) <= croot_Mission/Aircraft/Wing/Planform.2*tau_Mission/Aircraft/Wing/Planform.2 \n",
      "\n",
      "Ⓛ adds -9.14e-11 to the overall sensitivity of tau_Mission/Aircraft/Wing/Planform.2\n",
      "Ⓛ is Volbatt_Mission/Aircraft/Battery <= 0.5*b_Mission/Aircraft/Wing/Planform.2*cmac_Mission/Aircraft/Wing/Planform.2**2*tau_Mission/Aircraft/Wing/Planform.2 \n",
      "\n",
      "Ⓜ adds -0.27 to the overall sensitivity of tau_Mission/Aircraft/Wing/Planform.2\n",
      "Ⓜ is cave_Mission/Aircraft/Wing/Planform.2_(0,)*tau_Mission/Aircraft/Wing/Planform.2 >= 2*tcore_Mission/Aircraft/Wing/BoxSpar.2_(0,) + 4*t_Mission/Aircraft/Wing/BoxSpar.2_(0,) + hin_Mission/Aircraft/Wing/BoxSpar.2_(0,) \n",
      "\n",
      "Ⓝ adds -0.194 to the overall sensitivity of tau_Mission/Aircraft/Wing/Planform.2\n",
      "Ⓝ is cave_Mission/Aircraft/Wing/Planform.2_(1,)*tau_Mission/Aircraft/Wing/Planform.2 >= 2*tcore_Mission/Aircraft/Wing/BoxSpar.2_(1,) + 4*t_Mission/Aircraft/Wing/BoxSpar.2_(1,) + hin_Mission/Aircraft/Wing/BoxSpar.2_(1,) \n",
      "\n",
      "Ⓞ adds -0.109 to the overall sensitivity of tau_Mission/Aircraft/Wing/Planform.2\n",
      "Ⓞ is cave_Mission/Aircraft/Wing/Planform.2_(2,)*tau_Mission/Aircraft/Wing/Planform.2 >= 2*tcore_Mission/Aircraft/Wing/BoxSpar.2_(2,) + 4*t_Mission/Aircraft/Wing/BoxSpar.2_(2,) + hin_Mission/Aircraft/Wing/BoxSpar.2_(2,) \n",
      "\n",
      "Ⓟ adds -0.0285 to the overall sensitivity of tau_Mission/Aircraft/Wing/Planform.2\n",
      "Ⓟ is cave_Mission/Aircraft/Wing/Planform.2_(3,)*tau_Mission/Aircraft/Wing/Planform.2 >= 2*tcore_Mission/Aircraft/Wing/BoxSpar.2_(3,) + 4*t_Mission/Aircraft/Wing/BoxSpar.2_(3,) + hin_Mission/Aircraft/Wing/BoxSpar.2_(3,) \n",
      "\n",
      "Ⓠ adds +0.017 to the overall sensitivity of tau_Mission/Aircraft/Wing/Planform.2\n",
      "Ⓠ is tcore_Mission/Aircraft/Wing/BoxSpar.2_(0,) >= cave_Mission/Aircraft/Wing/Planform.2_(0,)*tau_Mission/Aircraft/Wing/Planform.2*tcoret_Mission/Aircraft/Wing/BoxSpar.2 \n",
      "\n",
      "Ⓡ adds +0.0124 to the overall sensitivity of tau_Mission/Aircraft/Wing/Planform.2\n",
      "Ⓡ is tcore_Mission/Aircraft/Wing/BoxSpar.2_(1,) >= cave_Mission/Aircraft/Wing/Planform.2_(1,)*tau_Mission/Aircraft/Wing/Planform.2*tcoret_Mission/Aircraft/Wing/BoxSpar.2 \n",
      "\n",
      "Ⓢ adds +0.00723 to the overall sensitivity of tau_Mission/Aircraft/Wing/Planform.2\n",
      "Ⓢ is tcore_Mission/Aircraft/Wing/BoxSpar.2_(2,) >= cave_Mission/Aircraft/Wing/Planform.2_(2,)*tau_Mission/Aircraft/Wing/Planform.2*tcoret_Mission/Aircraft/Wing/BoxSpar.2 \n",
      "\n",
      "Ⓣ adds +0.00233 to the overall sensitivity of tau_Mission/Aircraft/Wing/Planform.2\n",
      "Ⓣ is tcore_Mission/Aircraft/Wing/BoxSpar.2_(3,) >= cave_Mission/Aircraft/Wing/Planform.2_(3,)*tau_Mission/Aircraft/Wing/Planform.2*tcoret_Mission/Aircraft/Wing/BoxSpar.2 \n",
      "\n"
     ]
    },
    {
     "data": {
      "application/vnd.jupyter.widget-view+json": {
       "model_id": "b5cf81e48a294021aebacaf41f79bf82",
       "version_major": 2,
       "version_minor": 0
      },
      "text/html": [
       "<p>Failed to display Jupyter Widget of type <code>SankeyWidget</code>.</p>\n",
       "<p>\n",
       "  If you're reading this message in the Jupyter Notebook or JupyterLab Notebook, it may mean\n",
       "  that the widgets JavaScript is still loading. If this message persists, it\n",
       "  likely means that the widgets JavaScript library is either not installed or\n",
       "  not enabled. See the <a href=\"https://ipywidgets.readthedocs.io/en/stable/user_install.html\">Jupyter\n",
       "  Widgets Documentation</a> for setup instructions.\n",
       "</p>\n",
       "<p>\n",
       "  If you're reading this message in another frontend (for example, a static\n",
       "  rendering on GitHub or <a href=\"https://nbviewer.jupyter.org/\">NBViewer</a>),\n",
       "  it may mean that your frontend doesn't currently support widgets.\n",
       "</p>\n"
      ],
      "text/plain": [
       "SankeyWidget(links=[{'color': '#FA3333', 'source': 'BoxSpar.2', 'target': u'\\u24c9', 'value': 0.0023251513628170708}, {'color': '#FA3333', 'source': 'AircraftDrag', 'target': 'WingAero', 'value': 0.20682446464658261}, {'color': '#FA3333', 'source': 'WingAero.1', 'target': u'\\u24b7', 'value': 0.35590407615474207}, {'color': '#59ade4', 'source': 'BoxSpar.2', 'target': u'\\u24c2', 'value': 0.27011925618241289}, {'color': '#cfcfcf', 'source': 'Aircraft', 'target': u'\\u24c0', 'value': 1.0524148700374103e-10}, {'color': '#FA3333', 'source': 'WingAero', 'target': u'\\u24b6', 'value': 0.20682446464658261}, {'color': '#cfcfcf', 'source': 'SparLoading', 'target': u'\\u24b8', 'value': 1e-30}, {'color': '#FA3333', 'source': 'BoxSpar.2', 'target': u'\\u24c8', 'value': 0.0072256155695915331}, {'color': '#cfcfcf', 'source': 'FlightSegment', 'target': 'SparLoading', 'value': 1e-30}, {'color': '#59ade4', 'source': 'BoxSpar.2', 'target': u'\\u24c5', 'value': 0.02849089884570925}, {'color': '#FA3333', 'source': 'Mission', 'target': 'Climb', 'value': 0.20682446464658261}, {'color': '#59ade4', 'source': 'Wing', 'target': 'BoxSpar.2', 'value': 0.56272854069648282}, {'color': '#FA3333', 'source': 'BoxSpar.2', 'target': u'\\u24c7', 'value': 0.012373596580906259}, {'color': '#59ade4', 'source': 'Mission', 'target': 'Aircraft', 'value': 0.5627285408931294}, {'color': '#FA3333', 'source': 'AircraftPerf', 'target': 'AircraftDrag.1', 'value': 0.35590407615474207}, {'color': '#59ade4', 'source': 'Aircraft', 'target': 'Wing', 'value': 0.56272854069648282}, {'color': '#cfcfcf', 'source': 'GustL', 'target': u'\\u24bf', 'value': 1.6162856916523269e-11}, {'color': '#cfcfcf', 'source': 'tau_Mission/Aircraft/Wing/Planform.2', 'target': 'Mission', 'value': 1.5574042055988002e-10}, {'color': '#FA3333', 'source': 'Climb', 'target': 'AircraftDrag', 'value': 0.20682446464658261}, {'color': '#FA3333', 'source': 'AircraftDrag.1', 'target': 'WingAero.1', 'value': 0.35590407615474207}, {'color': '#cfcfcf', 'source': 'GustL', 'target': u'\\u24bd', 'value': 1.5918609498105728e-11}, {'color': '#FA3333', 'source': 'FlightSegment', 'target': 'AircraftPerf', 'value': 0.35590407615474207}, {'color': '#cfcfcf', 'source': 'FlightSegment', 'target': 'GustL', 'value': 6.3935653027020558e-11}, {'color': '#cfcfcf', 'source': 'SparLoading', 'target': u'\\u24b9', 'value': 1e-30}, {'color': '#59ade4', 'source': 'BoxSpar.2', 'target': u'\\u24c4', 'value': 0.1091168763299446}, {'color': '#FA3333', 'source': 'BoxSpar.2', 'target': u'\\u24c6', 'value': 0.017011817927455094}, {'color': '#FA3333', 'source': 'Mission', 'target': 'FlightSegment', 'value': 0.35590407609080643}, {'color': '#cfcfcf', 'source': 'GustL', 'target': u'\\u24be', 'value': 1.602865302518764e-11}, {'color': '#cfcfcf', 'source': 'Aircraft', 'target': u'\\u24c1', 'value': 9.1405152905111279e-11}, {'color': '#cfcfcf', 'source': 'SparLoading', 'target': u'\\u24bb', 'value': 1e-30}, {'color': '#cfcfcf', 'source': 'SparLoading', 'target': u'\\u24ba', 'value': 1e-30}, {'color': '#cfcfcf', 'source': 'GustL', 'target': u'\\u24bc', 'value': 1.5825533587203925e-11}, {'color': '#59ade4', 'source': 'BoxSpar.2', 'target': u'\\u24c3', 'value': 0.1939376907791861}], margins={'top': 0, 'right': 55, 'left': 120, 'bottom': 0}, nodes=[{'id': 'tau_Mission/Aircraft/Wing/Planform.2', 'title': 'tau [-]'}])"
      ]
     },
     "metadata": {},
     "output_type": "display_data"
    }
   ],
   "source": [
    "Sankey(M).sorted_by(\"constraints\", 5)"
   ]
  },
  {
   "cell_type": "code",
   "execution_count": 20,
   "metadata": {},
   "outputs": [
    {
     "name": "stdout",
     "output_type": "stream",
     "text": [
      "Ⓐ adds +0.237 to the overall sensitivity of g\n",
      "Ⓐ is W_Mission/Aircraft/SolarCells >= S_Mission/Aircraft/SolarCells*g*rhosolar_Mission/Aircraft/SolarCells \n",
      "\n",
      "Ⓑ adds +0.312 to the overall sensitivity of g\n",
      "Ⓑ is W_Mission/Aircraft/Wing/WingSecondStruct.2 >= S_Mission/Aircraft/Wing/Planform.2*g*rhoA_Mission/Aircraft/Wing/WingSecondStruct.2 \n",
      "\n",
      "Ⓒ adds +0.369 to the overall sensitivity of g\n",
      "Ⓒ is W_Mission/Aircraft/Wing/BoxSpar.2 >= 2*dm_Mission/Aircraft/Wing/BoxSpar.2_(0,)*g + 2*dm_Mission/Aircraft/Wing/BoxSpar.2_(1,)*g + 2*dm_Mission/Aircraft/Wing/BoxSpar.2_(2,)*g + 2*dm_Mission/Aircraft/Wing/BoxSpar.2_(3,)*g \n",
      "\n",
      "Ⓓ adds +2.38 to the overall sensitivity of g\n",
      "Ⓓ is W_Mission/Aircraft/Battery >= E_Mission/Aircraft/Battery*etaRTE_Mission/Aircraft/Battery**-1*etapack_Mission/Aircraft/Battery**-1*g*hbatt_Mission/Aircraft/Battery**-1*minSOC_Mission/Aircraft/Battery \n",
      "\n",
      "Ⓔ adds +0.0253 to the overall sensitivity of g\n",
      "Ⓔ is W_Mission/Aircraft/Empennage/HorizontalTail/WingSecondStruct >= S_Mission/Aircraft/Empennage/HorizontalTail/Planform*g*rhoA_Mission/Aircraft/Empennage/HorizontalTail/WingSecondStruct \n",
      "\n",
      "Ⓕ adds +0.0117 to the overall sensitivity of g\n",
      "Ⓕ is W_Mission/Aircraft/Empennage/HorizontalTail/BoxSpar >= 2*dm_Mission/Aircraft/Empennage/HorizontalTail/BoxSpar_(0,)*g + 2*dm_Mission/Aircraft/Empennage/HorizontalTail/BoxSpar_(1,)*g \n",
      "\n",
      "Ⓖ adds +0.0693 to the overall sensitivity of g\n",
      "Ⓖ is W_Mission/Aircraft/Empennage/VerticalTail/WingSecondStruct.1 >= S_Mission/Aircraft/Empennage/VerticalTail/Planform.1*g*rhoA_Mission/Aircraft/Empennage/VerticalTail/WingSecondStruct.1 \n",
      "\n",
      "Ⓗ adds +0.0395 to the overall sensitivity of g\n",
      "Ⓗ is W_Mission/Aircraft/Empennage/VerticalTail/BoxSpar.1 >= 2*dm_Mission/Aircraft/Empennage/VerticalTail/BoxSpar.1_(0,)*g + 2*dm_Mission/Aircraft/Empennage/VerticalTail/BoxSpar.1_(1,)*g \n",
      "\n",
      "Ⓘ adds +0.192 to the overall sensitivity of g\n",
      "Ⓘ is W_Mission/Aircraft/Empennage/TailBoom >= 0.0929*S_Mission/Aircraft/Empennage/TailBoom*g*rhoA_Mission/Aircraft/Empennage/TailBoom + 2*dm_Mission/Aircraft/Empennage/TailBoom_(0,)*g + 2*dm_Mission/Aircraft/Empennage/TailBoom_(1,)*g + 2*dm_Mission/Aircraft/Empennage/TailBoom_(2,)*g + 2*dm_Mission/Aircraft/Empennage/TailBoom_(3,)*g \n",
      "\n",
      "Ⓙ adds +0.358 to the overall sensitivity of g\n",
      "Ⓙ is W_Mission/Aircraft/Motor >= g*m_Mission/Aircraft/Motor \n",
      "\n"
     ]
    },
    {
     "data": {
      "application/vnd.jupyter.widget-view+json": {
       "model_id": "8ff7d41ad761441994344dfd768201c1",
       "version_major": 2,
       "version_minor": 0
      },
      "text/html": [
       "<p>Failed to display Jupyter Widget of type <code>SankeyWidget</code>.</p>\n",
       "<p>\n",
       "  If you're reading this message in the Jupyter Notebook or JupyterLab Notebook, it may mean\n",
       "  that the widgets JavaScript is still loading. If this message persists, it\n",
       "  likely means that the widgets JavaScript library is either not installed or\n",
       "  not enabled. See the <a href=\"https://ipywidgets.readthedocs.io/en/stable/user_install.html\">Jupyter\n",
       "  Widgets Documentation</a> for setup instructions.\n",
       "</p>\n",
       "<p>\n",
       "  If you're reading this message in another frontend (for example, a static\n",
       "  rendering on GitHub or <a href=\"https://nbviewer.jupyter.org/\">NBViewer</a>),\n",
       "  it may mean that your frontend doesn't currently support widgets.\n",
       "</p>\n"
      ],
      "text/plain": [
       "SankeyWidget(links=[{'color': '#FA3333', 'source': 'Battery', 'target': u'\\u24b9', 'value': 2.3809064902907062}, {'color': '#FA3333', 'source': 'WingSecondStruct', 'target': u'\\u24ba', 'value': 0.025300143786338391}, {'color': '#FA3333', 'source': 'Motor', 'target': u'\\u24bf', 'value': 0.35762123438784787}, {'color': '#FA3333', 'source': 'BoxSpar.2', 'target': u'\\u24b8', 'value': 0.36868442571815324}, {'color': '#FA3333', 'source': 'Aircraft', 'target': 'Empennage', 'value': 0.33770427073189652}, {'color': '#FA3333', 'source': 'WingSecondStruct.2', 'target': u'\\u24b7', 'value': 0.31238050523309024}, {'color': '#FA3333', 'source': 'Aircraft', 'target': 'Motor', 'value': 0.35762123438784787}, {'color': '#FA3333', 'source': 'Aircraft', 'target': 'Battery', 'value': 2.3809064902907062}, {'color': '#FA3333', 'source': 'TailBoom', 'target': u'\\u24be', 'value': 0.19187875274556798}, {'color': '#FA3333', 'source': 'Wing', 'target': 'BoxSpar.2', 'value': 0.36868442571815324}, {'color': '#FA3333', 'source': 'Mission', 'target': 'Aircraft', 'value': 3.9940384945767815}, {'color': '#FA3333', 'source': 'Aircraft', 'target': 'Wing', 'value': 0.68106493095124354}, {'color': '#FA3333', 'source': 'HorizontalTail', 'target': 'BoxSpar', 'value': 0.011714362408014978}, {'color': '#FA3333', 'source': 'Empennage', 'target': 'HorizontalTail', 'value': 0.037014506194353369}, {'color': '#FA3333', 'source': 'Empennage', 'target': 'VerticalTail', 'value': 0.10881101179197518}, {'color': '#FA3333', 'source': 'g', 'target': 'Mission', 'value': 3.9940384945767815}, {'color': '#FA3333', 'source': 'Wing', 'target': 'WingSecondStruct.2', 'value': 0.31238050523309024}, {'color': '#FA3333', 'source': 'VerticalTail', 'target': 'WingSecondStruct.1', 'value': 0.069269514085477088}, {'color': '#FA3333', 'source': 'BoxSpar', 'target': u'\\u24bb', 'value': 0.011714362408014978}, {'color': '#FA3333', 'source': 'VerticalTail', 'target': 'BoxSpar.1', 'value': 0.039541497706498091}, {'color': '#FA3333', 'source': 'WingSecondStruct.1', 'target': u'\\u24bc', 'value': 0.069269514085477088}, {'color': '#FA3333', 'source': 'SolarCells', 'target': u'\\u24b6', 'value': 0.23674156821508724}, {'color': '#FA3333', 'source': 'Aircraft', 'target': 'SolarCells', 'value': 0.23674156821508724}, {'color': '#FA3333', 'source': 'HorizontalTail', 'target': 'WingSecondStruct', 'value': 0.025300143786338391}, {'color': '#FA3333', 'source': 'Empennage', 'target': 'TailBoom', 'value': 0.19187875274556798}, {'color': '#FA3333', 'source': 'BoxSpar.1', 'target': u'\\u24bd', 'value': 0.039541497706498091}], margins={'top': 0, 'right': 90, 'left': 60, 'bottom': 0}, nodes=[{'id': 'g', 'title': u'g [m/s**2]'}])"
      ]
     },
     "metadata": {},
     "output_type": "display_data"
    }
   ],
   "source": [
    "Sankey(M).diagram(M[\"g\"], left=60, right=90, width=1050)"
   ]
  },
  {
   "cell_type": "code",
   "execution_count": null,
   "metadata": {},
   "outputs": [],
   "source": []
  }
 ],
 "metadata": {
  "kernelspec": {
   "display_name": "Python 2",
   "language": "python",
   "name": "python2"
  },
  "language_info": {
   "codemirror_mode": {
    "name": "ipython",
    "version": 2
   },
   "file_extension": ".py",
   "mimetype": "text/x-python",
   "name": "python",
   "nbconvert_exporter": "python",
   "pygments_lexer": "ipython2",
   "version": "2.7.13"
  }
 },
 "nbformat": 4,
 "nbformat_minor": 2
}
