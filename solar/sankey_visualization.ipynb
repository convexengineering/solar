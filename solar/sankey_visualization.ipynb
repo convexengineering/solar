{
 "cells": [
  {
   "cell_type": "code",
   "execution_count": 1,
   "metadata": {},
   "outputs": [
    {
     "data": {
      "application/javascript": [
       "IPython.OutputArea.prototype._should_scroll = function(lines) {\n",
       "    return false;\n",
       "} "
      ],
      "text/plain": [
       "<IPython.core.display.Javascript object>"
      ]
     },
     "metadata": {},
     "output_type": "display_data"
    }
   ],
   "source": [
    "%%javascript\n",
    "IPython.OutputArea.prototype._should_scroll = function(lines) {\n",
    "    return false;\n",
    "} "
   ]
  },
  {
   "cell_type": "code",
   "execution_count": 2,
   "metadata": {},
   "outputs": [],
   "source": [
    "from gpkit.interactive.sankey import Sankey"
   ]
  },
  {
   "cell_type": "code",
   "execution_count": 3,
   "metadata": {},
   "outputs": [],
   "source": [
    "from solar import Mission"
   ]
  },
  {
   "cell_type": "code",
   "execution_count": 4,
   "metadata": {},
   "outputs": [],
   "source": [
    "M = Mission(latitude=[15])\n",
    "M.cost = M[\"Wtotal\"]"
   ]
  },
  {
   "cell_type": "code",
   "execution_count": 5,
   "metadata": {},
   "outputs": [
    {
     "name": "stdout",
     "output_type": "stream",
     "text": [
      "Using solver 'mosek'\n",
      "Solving for 489 variables.\n",
      "Solving took 0.0772 seconds.\n",
      "Warning: Variable [Re_Mission/Climb/AircraftDrag/WingAero_(0,), Re_Mission/Climb/AircraftDrag/WingAero_(1,), Re_Missio could cause inaccurate result because it is above upper bound. Solution is 517432.5202 but bound is 200000.0000\n",
      "Warning: Variable tau_Mission/Aircraft/Wing/Planform.2 could cause inaccurate result because it is above upper bound. Solution is 0.1745 but bound is 0.1460\n",
      "Warning: Variable tau_Mission/Aircraft/Empennage/HorizontalTail/Planform could cause inaccurate result because it is below lower bound. Solution is 0.0315 but bound is 0.0500\n",
      "Warning: Variable tau_Mission/Aircraft/Empennage/VerticalTail/Planform.1 could cause inaccurate result because it is below lower bound. Solution is 0.0420 but bound is 0.0500\n",
      "Warning: Variable Re_Mission/FlightSegment/AircraftPerf/AircraftDrag.1/WingAero.1 could cause inaccurate result because it is above upper bound. Solution is 240334.9581 but bound is 200000.0000\n",
      "Warning: Variable tau_Mission/Aircraft/Wing/Planform.2 could cause inaccurate result because it is above upper bound. Solution is 0.1745 but bound is 0.1460\n",
      "Warning: Variable tau_Mission/Aircraft/Empennage/HorizontalTail/Planform could cause inaccurate result because it is below lower bound. Solution is 0.0315 but bound is 0.0500\n",
      "Warning: Variable tau_Mission/Aircraft/Empennage/VerticalTail/Planform.1 could cause inaccurate result because it is below lower bound. Solution is 0.0420 but bound is 0.0500\n"
     ]
    }
   ],
   "source": [
    "sol = M.solve(\"mosek\")"
   ]
  },
  {
   "cell_type": "code",
   "execution_count": null,
   "metadata": {},
   "outputs": [],
   "source": [
    "Sankey(M).sorted_by(\"constraints\", 0)"
   ]
  },
  {
   "cell_type": "code",
   "execution_count": 9,
   "metadata": {},
   "outputs": [
    {
     "name": "stdout",
     "output_type": "stream",
     "text": [
      "Ⓐ adds -0.00155 to the overall sensitivity of Pmax_Mission/Aircraft/Motor\n",
      "Ⓐ is Poper_Mission/Climb/AircraftDrag_(0,) <= Pmax_Mission/Aircraft/Motor \n",
      "\n",
      "Ⓑ adds -0.00155 to the overall sensitivity of Poper_Mission/Climb/AircraftDrag_(0,)\n",
      "Ⓑ is Poper_Mission/Climb/AircraftDrag_(0,)*mpower_Mission/Climb/AircraftDrag_(0,)**-1 >= 746*Pshaft_Mission/Climb/AircraftDrag_(0,)*eta_Mission/Aircraft/Motor**-1 + Pavn_Mission/Climb/AircraftDrag_(0,) + Ppay_Mission/Climb/AircraftDrag_(0,) \n",
      "\n",
      "Ⓐ adds +0.00155 to the overall sensitivity of Poper_Mission/Climb/AircraftDrag_(0,)\n",
      "Ⓐ is Poper_Mission/Climb/AircraftDrag_(0,) <= Pmax_Mission/Aircraft/Motor \n",
      "\n",
      "Ⓒ adds +6.4e-10 to the overall sensitivity of Poper_Mission/Climb/AircraftDrag_(0,)\n",
      "Ⓒ is E_Mission/Aircraft/Battery >= Poper_Mission/Climb/AircraftDrag_(0,)*dt_Mission/Climb_(0,) + Poper_Mission/Climb/AircraftDrag_(1,)*dt_Mission/Climb_(1,) + Poper_Mission/Climb/AircraftDrag_(2,)*dt_Mission/Climb_(2,) + Poper_Mission/Climb/AircraftDrag_(3,)*dt_Mission/Climb_(3,) + Poper_Mission/Climb/AircraftDrag_(4,)*dt_Mission/Climb_(4,) \n",
      "\n",
      "Ⓓ adds -0.0018 to the overall sensitivity of Pmax_Mission/Aircraft/Motor\n",
      "Ⓓ is Poper_Mission/Climb/AircraftDrag_(1,) <= Pmax_Mission/Aircraft/Motor \n",
      "\n",
      "Ⓔ adds -0.0018 to the overall sensitivity of Poper_Mission/Climb/AircraftDrag_(1,)\n",
      "Ⓔ is Poper_Mission/Climb/AircraftDrag_(1,)*mpower_Mission/Climb/AircraftDrag_(1,)**-1 >= 746*Pshaft_Mission/Climb/AircraftDrag_(1,)*eta_Mission/Aircraft/Motor**-1 + Pavn_Mission/Climb/AircraftDrag_(1,) + Ppay_Mission/Climb/AircraftDrag_(1,) \n",
      "\n",
      "Ⓓ adds +0.0018 to the overall sensitivity of Poper_Mission/Climb/AircraftDrag_(1,)\n",
      "Ⓓ is Poper_Mission/Climb/AircraftDrag_(1,) <= Pmax_Mission/Aircraft/Motor \n",
      "\n",
      "Ⓒ adds +6.88e-10 to the overall sensitivity of Poper_Mission/Climb/AircraftDrag_(1,)\n",
      "Ⓒ is E_Mission/Aircraft/Battery >= Poper_Mission/Climb/AircraftDrag_(0,)*dt_Mission/Climb_(0,) + Poper_Mission/Climb/AircraftDrag_(1,)*dt_Mission/Climb_(1,) + Poper_Mission/Climb/AircraftDrag_(2,)*dt_Mission/Climb_(2,) + Poper_Mission/Climb/AircraftDrag_(3,)*dt_Mission/Climb_(3,) + Poper_Mission/Climb/AircraftDrag_(4,)*dt_Mission/Climb_(4,) \n",
      "\n",
      "Ⓕ adds -0.00226 to the overall sensitivity of Pmax_Mission/Aircraft/Motor\n",
      "Ⓕ is Poper_Mission/Climb/AircraftDrag_(2,) <= Pmax_Mission/Aircraft/Motor \n",
      "\n",
      "Ⓖ adds -0.00226 to the overall sensitivity of Poper_Mission/Climb/AircraftDrag_(2,)\n",
      "Ⓖ is Poper_Mission/Climb/AircraftDrag_(2,)*mpower_Mission/Climb/AircraftDrag_(2,)**-1 >= 746*Pshaft_Mission/Climb/AircraftDrag_(2,)*eta_Mission/Aircraft/Motor**-1 + Pavn_Mission/Climb/AircraftDrag_(2,) + Ppay_Mission/Climb/AircraftDrag_(2,) \n",
      "\n",
      "Ⓕ adds +0.00226 to the overall sensitivity of Poper_Mission/Climb/AircraftDrag_(2,)\n",
      "Ⓕ is Poper_Mission/Climb/AircraftDrag_(2,) <= Pmax_Mission/Aircraft/Motor \n",
      "\n",
      "Ⓒ adds +7.71e-10 to the overall sensitivity of Poper_Mission/Climb/AircraftDrag_(2,)\n",
      "Ⓒ is E_Mission/Aircraft/Battery >= Poper_Mission/Climb/AircraftDrag_(0,)*dt_Mission/Climb_(0,) + Poper_Mission/Climb/AircraftDrag_(1,)*dt_Mission/Climb_(1,) + Poper_Mission/Climb/AircraftDrag_(2,)*dt_Mission/Climb_(2,) + Poper_Mission/Climb/AircraftDrag_(3,)*dt_Mission/Climb_(3,) + Poper_Mission/Climb/AircraftDrag_(4,)*dt_Mission/Climb_(4,) \n",
      "\n",
      "Ⓗ adds -0.00372 to the overall sensitivity of Pmax_Mission/Aircraft/Motor\n",
      "Ⓗ is Poper_Mission/Climb/AircraftDrag_(3,) <= Pmax_Mission/Aircraft/Motor \n",
      "\n",
      "Ⓘ adds -0.00372 to the overall sensitivity of Poper_Mission/Climb/AircraftDrag_(3,)\n",
      "Ⓘ is Poper_Mission/Climb/AircraftDrag_(3,)*mpower_Mission/Climb/AircraftDrag_(3,)**-1 >= 746*Pshaft_Mission/Climb/AircraftDrag_(3,)*eta_Mission/Aircraft/Motor**-1 + Pavn_Mission/Climb/AircraftDrag_(3,) + Ppay_Mission/Climb/AircraftDrag_(3,) \n",
      "\n",
      "Ⓗ adds +0.00372 to the overall sensitivity of Poper_Mission/Climb/AircraftDrag_(3,)\n",
      "Ⓗ is Poper_Mission/Climb/AircraftDrag_(3,) <= Pmax_Mission/Aircraft/Motor \n",
      "\n",
      "Ⓒ adds +9.88e-10 to the overall sensitivity of Poper_Mission/Climb/AircraftDrag_(3,)\n",
      "Ⓒ is E_Mission/Aircraft/Battery >= Poper_Mission/Climb/AircraftDrag_(0,)*dt_Mission/Climb_(0,) + Poper_Mission/Climb/AircraftDrag_(1,)*dt_Mission/Climb_(1,) + Poper_Mission/Climb/AircraftDrag_(2,)*dt_Mission/Climb_(2,) + Poper_Mission/Climb/AircraftDrag_(3,)*dt_Mission/Climb_(3,) + Poper_Mission/Climb/AircraftDrag_(4,)*dt_Mission/Climb_(4,) \n",
      "\n",
      "Ⓙ adds -0.0122 to the overall sensitivity of Pmax_Mission/Aircraft/Motor\n",
      "Ⓙ is Poper_Mission/Climb/AircraftDrag_(4,) <= Pmax_Mission/Aircraft/Motor \n",
      "\n",
      "Ⓚ adds -0.0116 to the overall sensitivity of Poper_Mission/Climb/AircraftDrag_(4,)\n",
      "Ⓚ is Poper_Mission/Climb/AircraftDrag_(4,)*mpower_Mission/Climb/AircraftDrag_(4,)**-1 >= 746*Pshaft_Mission/Climb/AircraftDrag_(4,)*eta_Mission/Aircraft/Motor**-1 + Pavn_Mission/Climb/AircraftDrag_(4,) + Ppay_Mission/Climb/AircraftDrag_(4,) \n",
      "\n",
      "Ⓙ adds +0.0122 to the overall sensitivity of Poper_Mission/Climb/AircraftDrag_(4,)\n",
      "Ⓙ is Poper_Mission/Climb/AircraftDrag_(4,) <= Pmax_Mission/Aircraft/Motor \n",
      "\n",
      "Ⓒ adds +1.79e-09 to the overall sensitivity of Poper_Mission/Climb/AircraftDrag_(4,)\n",
      "Ⓒ is E_Mission/Aircraft/Battery >= Poper_Mission/Climb/AircraftDrag_(0,)*dt_Mission/Climb_(0,) + Poper_Mission/Climb/AircraftDrag_(1,)*dt_Mission/Climb_(1,) + Poper_Mission/Climb/AircraftDrag_(2,)*dt_Mission/Climb_(2,) + Poper_Mission/Climb/AircraftDrag_(3,)*dt_Mission/Climb_(3,) + Poper_Mission/Climb/AircraftDrag_(4,)*dt_Mission/Climb_(4,) \n",
      "\n",
      "Ⓛ adds -1.14e-11 to the overall sensitivity of Pmax_Mission/Aircraft/Motor\n",
      "Ⓛ is Poper_Mission/FlightSegment/AircraftPerf/AircraftDrag.1 <= Pmax_Mission/Aircraft/Motor \n",
      "\n",
      "Ⓜ adds +0.0215 to the overall sensitivity of Pmax_Mission/Aircraft/Motor\n",
      "Ⓜ is Pmax_Mission/Aircraft/Motor <= Bpm_Mission/Aircraft/Motor*m_Mission/Aircraft/Motor \n",
      "\n"
     ]
    },
    {
     "data": {
      "application/vnd.jupyter.widget-view+json": {
       "model_id": "bfc41d13fbc14f52b89a783a9d4a6203",
       "version_major": 2,
       "version_minor": 0
      },
      "text/html": [
       "<p>Failed to display Jupyter Widget of type <code>SankeyWidget</code>.</p>\n",
       "<p>\n",
       "  If you're reading this message in the Jupyter Notebook or JupyterLab Notebook, it may mean\n",
       "  that the widgets JavaScript is still loading. If this message persists, it\n",
       "  likely means that the widgets JavaScript library is either not installed or\n",
       "  not enabled. See the <a href=\"https://ipywidgets.readthedocs.io/en/stable/user_install.html\">Jupyter\n",
       "  Widgets Documentation</a> for setup instructions.\n",
       "</p>\n",
       "<p>\n",
       "  If you're reading this message in another frontend (for example, a static\n",
       "  rendering on GitHub or <a href=\"https://nbviewer.jupyter.org/\">NBViewer</a>),\n",
       "  it may mean that your frontend doesn't currently support widgets.\n",
       "</p>\n"
      ],
      "text/plain": [
       "SankeyWidget(links=[{'color': '#cfcfcf', 'source': 'AircraftDrag', 'target': u'\\u24b6', 'value': 1e-30}, {'color': '#59ade4', 'source': 'AircraftDrag', 'target': u'\\u24be', 'value': 0.0037191328002214902}, {'color': '#cfcfcf', 'source': 'Climb', 'target': u'\\u24b8', 'value': 4.874985428360253e-09}, {'color': '#cfcfcf', 'source': 'Poper_Mission/Climb/AircraftDrag_(3,)', 'target': 'Mission', 'value': 1.3874083899826597e-17}, {'color': '#cfcfcf', 'source': 'AircraftPerf', 'target': 'AircraftDrag.1', 'value': 1.1379741897178411e-11}, {'color': '#59ade4', 'source': 'AircraftDrag', 'target': u'\\u24ba', 'value': 0.00179782172656517}, {'color': '#cfcfcf', 'source': 'AircraftDrag', 'target': u'\\u24bb', 'value': 1e-30}, {'color': '#FA3333', 'source': 'Poper_Mission/Climb/AircraftDrag_(4,)', 'target': 'Mission', 'value': 0.00054482100517018418}, {'color': '#cfcfcf', 'source': 'Poper_Mission/Climb/AircraftDrag_(0,)', 'target': 'Mission', 'value': 4.5162084483731309e-18}, {'color': '#cfcfcf', 'source': 'AircraftDrag.1', 'target': u'\\u24c1', 'value': 1.1379741897178411e-11}, {'color': '#FA3333', 'source': 'Aircraft', 'target': 'Motor', 'value': 0.021504094200973982}, {'color': '#59ade4', 'source': 'Mission', 'target': 'Climb', 'value': 0.020959273185381461}, {'color': '#FA3333', 'source': 'Mission', 'target': 'Aircraft', 'value': 0.021504094200973982}, {'color': '#cfcfcf', 'source': 'AircraftDrag', 'target': u'\\u24bd', 'value': 1e-30}, {'color': '#FA3333', 'source': 'Motor', 'target': u'\\u24c2', 'value': 0.021504094200973982}, {'color': '#cfcfcf', 'source': 'AircraftDrag', 'target': u'\\u24b9', 'value': 1e-30}, {'color': '#59ade4', 'source': 'AircraftDrag', 'target': u'\\u24b7', 'value': 0.001553579622496148}, {'color': '#cfcfcf', 'source': 'AircraftDrag', 'target': u'\\u24bf', 'value': 1e-30}, {'color': '#59ade4', 'source': 'AircraftDrag', 'target': u'\\u24bc', 'value': 0.0022587979619604465}, {'color': '#cfcfcf', 'source': 'FlightSegment', 'target': 'AircraftPerf', 'value': 1.1379741897178411e-11}, {'color': '#cfcfcf', 'source': 'Poper_Mission/Climb/AircraftDrag_(2,)', 'target': 'Mission', 'value': 9.493946558820863e-18}, {'color': '#cfcfcf', 'source': 'Mission', 'target': 'FlightSegment', 'value': 1.1379741897178411e-11}, {'color': '#59ade4', 'source': 'Climb', 'target': 'AircraftDrag', 'value': 0.02095927806036689}, {'color': '#59ade4', 'source': 'AircraftDrag', 'target': u'\\u24c0', 'value': 0.01162994594912363}, {'color': '#cfcfcf', 'source': 'Poper_Mission/Climb/AircraftDrag_(1,)', 'target': 'Mission', 'value': 8.0381565538054858e-19}, {'color': '#cfcfcf', 'source': 'Pmax_Mission/Aircraft/Motor', 'target': 'Mission', 'value': 9.5738347805074397e-13}], margins={'top': 0, 'right': 90, 'left': 100, 'bottom': 0}, nodes=[{'id': 'Pmax_Mission/Aircraft/Motor', 'title': u'Pmax [W] \\u2776'}, {'id': 'Poper_Mission/Climb/AircraftDrag_(0,)', 'title': u'Poper_(0,) [W] \\u2777'}, {'id': u'\\u24b6', 'title': u'\\u24b6\\u2009\\u2777\\u2264\\u2776'}, {'id': 'Poper_Mission/Climb/AircraftDrag_(1,)', 'title': u'Poper_(1,) [W] \\u2778'}, {'id': u'\\u24b9', 'title': u'\\u24b9\\u2009\\u2778\\u2264\\u2776'}, {'id': 'Poper_Mission/Climb/AircraftDrag_(2,)', 'title': u'Poper_(2,) [W] \\u2779'}, {'id': u'\\u24bb', 'title': u'\\u24bb\\u2009\\u2779\\u2264\\u2776'}, {'id': 'Poper_Mission/Climb/AircraftDrag_(3,)', 'title': u'Poper_(3,) [W] \\u277a'}, {'id': u'\\u24bd', 'title': u'\\u24bd\\u2009\\u277a\\u2264\\u2776'}, {'id': 'Poper_Mission/Climb/AircraftDrag_(4,)', 'title': u'Poper_(4,) [W] \\u277b'}, {'id': u'\\u24bf', 'title': u'\\u24bf\\u2009\\u277b\\u2264\\u2776'}])"
      ]
     },
     "metadata": {},
     "output_type": "display_data"
    }
   ],
   "source": [
    "Sankey(M).diagram(M.solar.motor.Pmax, left=100, right=90, width=1050)"
   ]
  },
  {
   "cell_type": "code",
   "execution_count": null,
   "metadata": {},
   "outputs": [],
   "source": []
  }
 ],
 "metadata": {
  "kernelspec": {
   "display_name": "Python 2",
   "language": "python",
   "name": "python2"
  },
  "language_info": {
   "codemirror_mode": {
    "name": "ipython",
    "version": 2
   },
   "file_extension": ".py",
   "mimetype": "text/x-python",
   "name": "python",
   "nbconvert_exporter": "python",
   "pygments_lexer": "ipython2",
   "version": "2.7.13"
  }
 },
 "nbformat": 4,
 "nbformat_minor": 2
}
